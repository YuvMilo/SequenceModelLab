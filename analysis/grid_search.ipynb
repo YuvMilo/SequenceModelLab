{
 "cells": [
  {
   "cell_type": "code",
   "execution_count": 8,
   "metadata": {},
   "outputs": [
    {
     "name": "stdout",
     "output_type": "stream",
     "text": [
      "Installing dependencies from lock file\n",
      "\n",
      "No dependencies to install or update\n"
     ]
    }
   ],
   "source": [
    "# TODO - find a way to make this install the poetry enviorment\n",
    "import os\n",
    "os.chdir(\"C:\\\\Users\\yuvmi\\PycharmProjects\\SequenceModelLab\")\n",
    "!poetry install"
   ]
  },
  {
   "cell_type": "code",
   "execution_count": 9,
   "metadata": {},
   "outputs": [],
   "source": [
    "import numpy as np\n",
    "import re"
   ]
  },
  {
   "cell_type": "code",
   "execution_count": 10,
   "metadata": {},
   "outputs": [],
   "source": [
    "import os\n",
    "import glob\n",
    "import pickle\n",
    "from collections import defaultdict\n",
    "from tqdm.notebook import tqdm\n",
    "import numpy as np\n",
    "import matplotlib.pyplot as plt\n",
    "from matplotlib.animation import FFMpegWriter, PillowWriter\n",
    "import torch"
   ]
  },
  {
   "cell_type": "code",
   "execution_count": 11,
   "metadata": {},
   "outputs": [],
   "source": [
    "from src.visualizations.vis_utils import animate_SSM_state_dynamics"
   ]
  },
  {
   "cell_type": "markdown",
   "metadata": {},
   "source": [
    "# Analysing the best results dynamics"
   ]
  },
  {
   "cell_type": "markdown",
   "metadata": {},
   "source": [
    "## Reading result logs and saving best results"
   ]
  },
  {
   "cell_type": "code",
   "execution_count": 12,
   "metadata": {},
   "outputs": [],
   "source": [
    "INSIGNIFICANT_LOSS_CHANGE = 0.02\n",
    "\n",
    "class Result():\n",
    "    \n",
    "    def __init__(self, data):\n",
    "        losses = np.array([l.entity for l in data[\"loss\"]])\n",
    "        l_epochs = np.array([l.epoch_logged for l in data[\"loss\"]])\n",
    "        if len(losses) == 0:\n",
    "            self.min_loss = None\n",
    "            return\n",
    "        exploded = (np.argmax(losses) == len(losses) - 1)\n",
    "        min_loss = np.min(losses)\n",
    "        best_ker = data[\"kernel\"][np.argmin(losses)-1].entity\n",
    "    \n",
    "        \n",
    "        if np.isnan(min_loss):\n",
    "            self.min_loss = None\n",
    "            return\n",
    "        elif np.isinf(min_loss):\n",
    "            self.min_loss = None\n",
    "            return\n",
    "        else:\n",
    "            self.min_loss = min_loss\n",
    "        self.exploded = exploded\n",
    "        self.best_ker = best_ker\n",
    "        self.epoch_best_res = np.argmin(losses)\n",
    "        self.best_A = data[\"A\"][np.argmin(losses)-1].entity\n",
    "        self.best_B = data[\"B\"][np.argmin(losses)-1].entity\n",
    "        self.best_C = data[\"C\"][np.argmin(losses)-1].entity\n",
    "        self.train_len = len(losses)\n",
    "        self.effective_train_len = np.where(losses<INSIGNIFICANT_LOSS_CHANGE+self.min_loss)[0][0]\n",
    "        \n",
    "    \n",
    "    def __bool__(self):\n",
    "        return self.min_loss is not None"
   ]
  },
  {
   "cell_type": "code",
   "execution_count": 14,
   "metadata": {},
   "outputs": [],
   "source": [
    "def string_to_dict(string, pattern):\n",
    "    regex = re.sub(r'{(.+?)}', r'(?P<_\\1>.+)', pattern)\n",
    "    values = list(re.search(regex, string).groups())\n",
    "    keys = re.findall(r'{(.+?)}', pattern)\n",
    "    _dict = dict(zip(keys, values))\n",
    "    return _dict"
   ]
  },
  {
   "cell_type": "code",
   "execution_count": 36,
   "metadata": {},
   "outputs": [],
   "source": [
    "def get_hippo_params(filepath):\n",
    "    file_name = os.path.basename(file_path)\n",
    "    params = string_to_dict(filepath,\"hippoh_h{hidden}_l{lag}_lr{lr}_dt{dt}_o{opt}\")\n",
    "    params[\"exp_name\"] = \"hippo\"\n",
    "    return params\n",
    "\n",
    "def get_ssm_params(filepath):\n",
    "    file_name = os.path.basename(file_path)\n",
    "    params = string_to_dict(filepath,\"ssm_h{hidden}_l{lag}_lr{lr}_n{noise}_d{diag_init}_b{BC_std}_o{opt}\")\n",
    "    params[\"exp_name\"] = \"ssm\"\n",
    "    return params\n",
    "\n",
    "def get_hippo_no_params(filepath):\n",
    "    file_name = os.path.basename(file_path)\n",
    "    params = string_to_dict(filepath,\"hippo_no{no}_h{hidden}_l{lag}_lr{lr}_dt{dt}_o{opt}\")\n",
    "    params[\"exp_name\"] = \"hippo_no\"\n",
    "    return params\n",
    "\n",
    "def get_rot_params(filepath):\n",
    "    file_name = os.path.basename(file_path)\n",
    "    params = string_to_dict(filepath,\"rot_{rot_type}_h{hidden}_l{lag}_lr{lr}_o{opt}\")\n",
    "    params[\"exp_name\"] = \"rot\"\n",
    "    return params\n",
    "    "
   ]
  },
  {
   "cell_type": "code",
   "execution_count": 37,
   "metadata": {},
   "outputs": [],
   "source": [
    "experiments_results = defaultdict(list)\n",
    "files = []"
   ]
  },
  {
   "cell_type": "code",
   "execution_count": 38,
   "metadata": {},
   "outputs": [],
   "source": [
    "#experiment_file_regexs = [r\"../results/grid/*\"]\n",
    "experiment_file_regexs = [r\".\\results\\\\grid\\\\*\"]"
   ]
  },
  {
   "cell_type": "code",
   "execution_count": 39,
   "metadata": {},
   "outputs": [
    {
     "data": {
      "application/vnd.jupyter.widget-view+json": {
       "model_id": "1a81412d4c9d4de1b1d5057972d2fc18",
       "version_major": 2,
       "version_minor": 0
      },
      "text/plain": [
       "  0%|          | 0/1001 [00:00<?, ?it/s]"
      ]
     },
     "metadata": {},
     "output_type": "display_data"
    },
    {
     "name": "stdout",
     "output_type": "stream",
     "text": [
      ".\\results\\\\grid\\ssm_h64_l60_lr0.0001_n0.1_d0.93_b0.001_oSGD\n",
      ".\\results\\\\grid\\ssm_h64_l60_lr0.0001_n0.1_d0.93_b0.01_oSGD\n",
      ".\\results\\\\grid\\ssm_h64_l60_lr0.0001_n0.1_d0.93_b0.1_oSGD\n",
      ".\\results\\\\grid\\ssm_h64_l60_lr0.0001_n0.1_d0.93_b1_oSGD\n",
      ".\\results\\\\grid\\ssm_h64_l60_lr0.0001_n0.1_d0.95_b0.001_oSGD\n",
      ".\\results\\\\grid\\ssm_h64_l60_lr0.0001_n0.1_d0.95_b0.01_oSGD\n",
      ".\\results\\\\grid\\ssm_h64_l60_lr0.0001_n0.1_d0.95_b0.1_oSGD\n",
      ".\\results\\\\grid\\ssm_h64_l60_lr0.0001_n0.1_d0.95_b1_oSGD\n",
      ".\\results\\\\grid\\ssm_h64_l60_lr0.0001_n0.1_d0.97_b0.001_oSGD\n",
      ".\\results\\\\grid\\ssm_h64_l60_lr0.0001_n0.1_d0.97_b0.01_oSGD\n",
      ".\\results\\\\grid\\ssm_h64_l60_lr0.0001_n0.1_d0.97_b0.1_oSGD\n",
      ".\\results\\\\grid\\ssm_h64_l60_lr0.0001_n0.1_d0.97_b1_oSGD\n",
      ".\\results\\\\grid\\ssm_h64_l60_lr0.0001_n0.1_d0.9_b0.001_oSGD\n",
      ".\\results\\\\grid\\ssm_h64_l60_lr0.0001_n0.1_d0.9_b0.01_oSGD\n",
      ".\\results\\\\grid\\ssm_h64_l60_lr0.0001_n0.1_d0.9_b0.1_oSGD\n",
      ".\\results\\\\grid\\ssm_h64_l60_lr0.0001_n0.1_d0.9_b1_oSGD\n",
      ".\\results\\\\grid\\ssm_h64_l60_lr0.0005_n0.1_d0.93_b0.001_oSGD\n",
      ".\\results\\\\grid\\ssm_h64_l60_lr0.0005_n0.1_d0.93_b0.01_oSGD\n",
      ".\\results\\\\grid\\ssm_h64_l60_lr0.0005_n0.1_d0.93_b0.1_oSGD\n",
      ".\\results\\\\grid\\ssm_h64_l60_lr0.0005_n0.1_d0.93_b1_oSGD\n",
      ".\\results\\\\grid\\ssm_h64_l60_lr0.0005_n0.1_d0.95_b0.001_oSGD\n",
      ".\\results\\\\grid\\ssm_h64_l60_lr0.0005_n0.1_d0.95_b0.01_oSGD\n",
      ".\\results\\\\grid\\ssm_h64_l60_lr0.0005_n0.1_d0.95_b0.1_oSGD\n",
      ".\\results\\\\grid\\ssm_h64_l60_lr0.0005_n0.1_d0.95_b1_oSGD\n",
      ".\\results\\\\grid\\ssm_h64_l60_lr0.0005_n0.1_d0.97_b0.001_oSGD\n",
      ".\\results\\\\grid\\ssm_h64_l60_lr0.0005_n0.1_d0.97_b0.01_oSGD\n",
      ".\\results\\\\grid\\ssm_h64_l60_lr0.0005_n0.1_d0.97_b0.1_oSGD\n",
      ".\\results\\\\grid\\ssm_h64_l60_lr0.0005_n0.1_d0.97_b1_oSGD\n",
      ".\\results\\\\grid\\ssm_h64_l60_lr0.0005_n0.1_d0.9_b0.001_oSGD\n",
      ".\\results\\\\grid\\ssm_h64_l60_lr0.0005_n0.1_d0.9_b0.01_oSGD\n",
      ".\\results\\\\grid\\ssm_h64_l60_lr0.0005_n0.1_d0.9_b0.1_oSGD\n",
      ".\\results\\\\grid\\ssm_h64_l60_lr0.0005_n0.1_d0.9_b1_oSGD\n",
      ".\\results\\\\grid\\ssm_h64_l60_lr0.001_n0.1_d0.93_b0.001_oadam\n",
      ".\\results\\\\grid\\ssm_h64_l60_lr0.001_n0.1_d0.93_b0.001_oSGD\n",
      ".\\results\\\\grid\\ssm_h64_l60_lr0.001_n0.1_d0.93_b0.01_oadam\n",
      ".\\results\\\\grid\\ssm_h64_l60_lr0.001_n0.1_d0.93_b0.01_oSGD\n",
      ".\\results\\\\grid\\ssm_h64_l60_lr0.001_n0.1_d0.93_b0.1_oadam\n",
      ".\\results\\\\grid\\ssm_h64_l60_lr0.001_n0.1_d0.93_b0.1_oSGD\n",
      ".\\results\\\\grid\\ssm_h64_l60_lr0.001_n0.1_d0.93_b1_oadam\n",
      ".\\results\\\\grid\\ssm_h64_l60_lr0.001_n0.1_d0.93_b1_oSGD\n",
      ".\\results\\\\grid\\ssm_h64_l60_lr0.001_n0.1_d0.95_b0.001_oadam\n",
      ".\\results\\\\grid\\ssm_h64_l60_lr0.001_n0.1_d0.95_b0.001_oSGD\n",
      ".\\results\\\\grid\\ssm_h64_l60_lr0.001_n0.1_d0.95_b0.01_oadam\n",
      ".\\results\\\\grid\\ssm_h64_l60_lr0.001_n0.1_d0.95_b0.01_oSGD\n",
      ".\\results\\\\grid\\ssm_h64_l60_lr0.001_n0.1_d0.95_b0.1_oadam\n",
      ".\\results\\\\grid\\ssm_h64_l60_lr0.001_n0.1_d0.95_b0.1_oSGD\n",
      ".\\results\\\\grid\\ssm_h64_l60_lr0.001_n0.1_d0.95_b1_oadam\n",
      ".\\results\\\\grid\\ssm_h64_l60_lr0.001_n0.1_d0.95_b1_oSGD\n",
      ".\\results\\\\grid\\ssm_h64_l60_lr0.001_n0.1_d0.97_b0.001_oadam\n",
      ".\\results\\\\grid\\ssm_h64_l60_lr0.001_n0.1_d0.97_b0.001_oSGD\n",
      ".\\results\\\\grid\\ssm_h64_l60_lr0.001_n0.1_d0.97_b0.01_oadam\n",
      ".\\results\\\\grid\\ssm_h64_l60_lr0.001_n0.1_d0.97_b0.01_oSGD\n",
      ".\\results\\\\grid\\ssm_h64_l60_lr0.001_n0.1_d0.97_b0.1_oadam\n",
      ".\\results\\\\grid\\ssm_h64_l60_lr0.001_n0.1_d0.97_b0.1_oSGD\n",
      ".\\results\\\\grid\\ssm_h64_l60_lr0.001_n0.1_d0.97_b1_oadam\n",
      ".\\results\\\\grid\\ssm_h64_l60_lr0.001_n0.1_d0.97_b1_oSGD\n",
      ".\\results\\\\grid\\ssm_h64_l60_lr0.001_n0.1_d0.9_b0.001_oadam\n",
      ".\\results\\\\grid\\ssm_h64_l60_lr0.001_n0.1_d0.9_b0.001_oSGD\n",
      ".\\results\\\\grid\\ssm_h64_l60_lr0.001_n0.1_d0.9_b0.01_oadam\n",
      ".\\results\\\\grid\\ssm_h64_l60_lr0.001_n0.1_d0.9_b0.01_oSGD\n",
      ".\\results\\\\grid\\ssm_h64_l60_lr0.001_n0.1_d0.9_b0.1_oadam\n",
      ".\\results\\\\grid\\ssm_h64_l60_lr0.001_n0.1_d0.9_b0.1_oSGD\n",
      ".\\results\\\\grid\\ssm_h64_l60_lr0.001_n0.1_d0.9_b1_oadam\n",
      ".\\results\\\\grid\\ssm_h64_l60_lr0.001_n0.1_d0.9_b1_oSGD\n",
      ".\\results\\\\grid\\ssm_h64_l60_lr0.005_n0.1_d0.93_b0.001_oSGD\n",
      ".\\results\\\\grid\\ssm_h64_l60_lr0.005_n0.1_d0.93_b0.01_oSGD\n",
      ".\\results\\\\grid\\ssm_h64_l60_lr0.005_n0.1_d0.93_b0.1_oSGD\n",
      ".\\results\\\\grid\\ssm_h64_l60_lr0.005_n0.1_d0.93_b1_oSGD\n",
      ".\\results\\\\grid\\ssm_h64_l60_lr0.005_n0.1_d0.95_b0.001_oSGD\n",
      ".\\results\\\\grid\\ssm_h64_l60_lr0.005_n0.1_d0.95_b0.01_oSGD\n",
      ".\\results\\\\grid\\ssm_h64_l60_lr0.005_n0.1_d0.95_b0.1_oSGD\n",
      ".\\results\\\\grid\\ssm_h64_l60_lr0.005_n0.1_d0.95_b1_oSGD\n",
      ".\\results\\\\grid\\ssm_h64_l60_lr0.005_n0.1_d0.97_b0.001_oSGD\n",
      ".\\results\\\\grid\\ssm_h64_l60_lr0.005_n0.1_d0.97_b0.01_oSGD\n",
      ".\\results\\\\grid\\ssm_h64_l60_lr0.005_n0.1_d0.97_b0.1_oSGD\n",
      ".\\results\\\\grid\\ssm_h64_l60_lr0.005_n0.1_d0.97_b1_oSGD\n",
      ".\\results\\\\grid\\ssm_h64_l60_lr0.005_n0.1_d0.9_b0.001_oSGD\n",
      ".\\results\\\\grid\\ssm_h64_l60_lr0.005_n0.1_d0.9_b0.01_oSGD\n",
      ".\\results\\\\grid\\ssm_h64_l60_lr0.005_n0.1_d0.9_b0.1_oSGD\n",
      ".\\results\\\\grid\\ssm_h64_l60_lr0.005_n0.1_d0.9_b1_oSGD\n",
      ".\\results\\\\grid\\ssm_h64_l60_lr0.01_n0.1_d0.93_b0.001_oadam\n",
      ".\\results\\\\grid\\ssm_h64_l60_lr0.01_n0.1_d0.93_b0.001_oSGD\n",
      ".\\results\\\\grid\\ssm_h64_l60_lr0.01_n0.1_d0.93_b0.01_oadam\n",
      ".\\results\\\\grid\\ssm_h64_l60_lr0.01_n0.1_d0.93_b0.01_oSGD\n",
      ".\\results\\\\grid\\ssm_h64_l60_lr0.01_n0.1_d0.93_b0.1_oadam\n",
      ".\\results\\\\grid\\ssm_h64_l60_lr0.01_n0.1_d0.93_b0.1_oSGD\n",
      ".\\results\\\\grid\\ssm_h64_l60_lr0.01_n0.1_d0.93_b1_oadam\n",
      ".\\results\\\\grid\\ssm_h64_l60_lr0.01_n0.1_d0.93_b1_oSGD\n",
      ".\\results\\\\grid\\ssm_h64_l60_lr0.01_n0.1_d0.95_b0.001_oadam\n",
      ".\\results\\\\grid\\ssm_h64_l60_lr0.01_n0.1_d0.95_b0.001_oSGD\n",
      ".\\results\\\\grid\\ssm_h64_l60_lr0.01_n0.1_d0.95_b0.01_oadam\n",
      ".\\results\\\\grid\\ssm_h64_l60_lr0.01_n0.1_d0.95_b0.01_oSGD\n",
      ".\\results\\\\grid\\ssm_h64_l60_lr0.01_n0.1_d0.95_b0.1_oadam\n",
      ".\\results\\\\grid\\ssm_h64_l60_lr0.01_n0.1_d0.95_b0.1_oSGD\n",
      ".\\results\\\\grid\\ssm_h64_l60_lr0.01_n0.1_d0.95_b1_oadam\n",
      ".\\results\\\\grid\\ssm_h64_l60_lr0.01_n0.1_d0.95_b1_oSGD\n",
      ".\\results\\\\grid\\ssm_h64_l60_lr0.01_n0.1_d0.97_b0.001_oadam\n",
      ".\\results\\\\grid\\ssm_h64_l60_lr0.01_n0.1_d0.97_b0.001_oSGD\n",
      ".\\results\\\\grid\\ssm_h64_l60_lr0.01_n0.1_d0.97_b0.01_oadam\n",
      ".\\results\\\\grid\\ssm_h64_l60_lr0.01_n0.1_d0.97_b0.01_oSGD\n",
      ".\\results\\\\grid\\ssm_h64_l60_lr0.01_n0.1_d0.97_b0.1_oadam\n",
      ".\\results\\\\grid\\ssm_h64_l60_lr0.01_n0.1_d0.97_b0.1_oSGD\n",
      ".\\results\\\\grid\\ssm_h64_l60_lr0.01_n0.1_d0.97_b1_oadam\n",
      ".\\results\\\\grid\\ssm_h64_l60_lr0.01_n0.1_d0.97_b1_oSGD\n",
      ".\\results\\\\grid\\ssm_h64_l60_lr0.01_n0.1_d0.9_b0.001_oadam\n",
      ".\\results\\\\grid\\ssm_h64_l60_lr0.01_n0.1_d0.9_b0.001_oSGD\n",
      ".\\results\\\\grid\\ssm_h64_l60_lr0.01_n0.1_d0.9_b0.01_oadam\n",
      ".\\results\\\\grid\\ssm_h64_l60_lr0.01_n0.1_d0.9_b0.01_oSGD\n",
      ".\\results\\\\grid\\ssm_h64_l60_lr0.01_n0.1_d0.9_b0.1_oadam\n",
      ".\\results\\\\grid\\ssm_h64_l60_lr0.01_n0.1_d0.9_b0.1_oSGD\n",
      ".\\results\\\\grid\\ssm_h64_l60_lr0.01_n0.1_d0.9_b1_oadam\n",
      ".\\results\\\\grid\\ssm_h64_l60_lr0.01_n0.1_d0.9_b1_oSGD\n",
      ".\\results\\\\grid\\ssm_h64_l60_lr0.05_n0.1_d0.93_b0.001_oSGD\n",
      ".\\results\\\\grid\\ssm_h64_l60_lr0.05_n0.1_d0.93_b0.01_oSGD\n",
      ".\\results\\\\grid\\ssm_h64_l60_lr0.05_n0.1_d0.93_b0.1_oSGD\n",
      ".\\results\\\\grid\\ssm_h64_l60_lr0.05_n0.1_d0.93_b1_oSGD\n",
      ".\\results\\\\grid\\ssm_h64_l60_lr0.05_n0.1_d0.95_b0.001_oSGD\n",
      ".\\results\\\\grid\\ssm_h64_l60_lr0.05_n0.1_d0.95_b0.01_oSGD\n",
      ".\\results\\\\grid\\ssm_h64_l60_lr0.05_n0.1_d0.95_b0.1_oSGD\n",
      ".\\results\\\\grid\\ssm_h64_l60_lr0.05_n0.1_d0.95_b1_oSGD\n",
      ".\\results\\\\grid\\ssm_h64_l60_lr0.05_n0.1_d0.97_b0.001_oSGD\n",
      ".\\results\\\\grid\\ssm_h64_l60_lr0.05_n0.1_d0.97_b0.01_oSGD\n",
      ".\\results\\\\grid\\ssm_h64_l60_lr0.05_n0.1_d0.97_b0.1_oSGD\n",
      ".\\results\\\\grid\\ssm_h64_l60_lr0.05_n0.1_d0.97_b1_oSGD\n",
      ".\\results\\\\grid\\ssm_h64_l60_lr0.05_n0.1_d0.9_b0.001_oSGD\n",
      ".\\results\\\\grid\\ssm_h64_l60_lr0.05_n0.1_d0.9_b0.01_oSGD\n",
      ".\\results\\\\grid\\ssm_h64_l60_lr0.05_n0.1_d0.9_b0.1_oSGD\n",
      ".\\results\\\\grid\\ssm_h64_l60_lr0.05_n0.1_d0.9_b1_oSGD\n",
      ".\\results\\\\grid\\ssm_h64_l60_lr0.1_n0.1_d0.93_b0.001_oadam\n",
      ".\\results\\\\grid\\ssm_h64_l60_lr0.1_n0.1_d0.93_b0.01_oadam\n",
      ".\\results\\\\grid\\ssm_h64_l60_lr0.1_n0.1_d0.93_b0.1_oadam\n",
      ".\\results\\\\grid\\ssm_h64_l60_lr0.1_n0.1_d0.93_b1_oadam\n",
      ".\\results\\\\grid\\ssm_h64_l60_lr0.1_n0.1_d0.95_b0.001_oadam\n",
      ".\\results\\\\grid\\ssm_h64_l60_lr0.1_n0.1_d0.95_b0.01_oadam\n",
      ".\\results\\\\grid\\ssm_h64_l60_lr0.1_n0.1_d0.95_b0.1_oadam\n",
      ".\\results\\\\grid\\ssm_h64_l60_lr0.1_n0.1_d0.95_b1_oadam\n",
      ".\\results\\\\grid\\ssm_h64_l60_lr0.1_n0.1_d0.97_b0.001_oadam\n",
      ".\\results\\\\grid\\ssm_h64_l60_lr0.1_n0.1_d0.97_b0.01_oadam\n",
      ".\\results\\\\grid\\ssm_h64_l60_lr0.1_n0.1_d0.97_b0.1_oadam\n",
      ".\\results\\\\grid\\ssm_h64_l60_lr0.1_n0.1_d0.97_b1_oadam\n",
      ".\\results\\\\grid\\ssm_h64_l60_lr0.1_n0.1_d0.9_b0.001_oadam\n",
      ".\\results\\\\grid\\ssm_h64_l60_lr0.1_n0.1_d0.9_b0.01_oadam\n",
      ".\\results\\\\grid\\ssm_h64_l60_lr0.1_n0.1_d0.9_b0.1_oadam\n",
      ".\\results\\\\grid\\ssm_h64_l60_lr0.1_n0.1_d0.9_b1_oadam\n"
     ]
    },
    {
     "name": "stdout",
     "output_type": "stream",
     "text": [
      ".\\results\\\\grid\\ssm_h64_l60_lr1e-05_n0.1_d0.93_b0.001_oSGD\n",
      ".\\results\\\\grid\\ssm_h64_l60_lr1e-05_n0.1_d0.93_b0.01_oSGD\n",
      ".\\results\\\\grid\\ssm_h64_l60_lr1e-05_n0.1_d0.93_b0.1_oSGD\n",
      ".\\results\\\\grid\\ssm_h64_l60_lr1e-05_n0.1_d0.93_b1_oSGD\n",
      ".\\results\\\\grid\\ssm_h64_l60_lr1e-05_n0.1_d0.95_b0.001_oSGD\n",
      ".\\results\\\\grid\\ssm_h64_l60_lr1e-05_n0.1_d0.95_b0.01_oSGD\n",
      ".\\results\\\\grid\\ssm_h64_l60_lr1e-05_n0.1_d0.95_b0.1_oSGD\n",
      ".\\results\\\\grid\\ssm_h64_l60_lr1e-05_n0.1_d0.95_b1_oSGD\n",
      ".\\results\\\\grid\\ssm_h64_l60_lr1e-05_n0.1_d0.97_b0.001_oSGD\n",
      ".\\results\\\\grid\\ssm_h64_l60_lr1e-05_n0.1_d0.97_b0.01_oSGD\n",
      ".\\results\\\\grid\\ssm_h64_l60_lr1e-05_n0.1_d0.97_b0.1_oSGD\n",
      ".\\results\\\\grid\\ssm_h64_l60_lr1e-05_n0.1_d0.97_b1_oSGD\n",
      ".\\results\\\\grid\\ssm_h64_l60_lr1e-05_n0.1_d0.9_b0.001_oSGD\n",
      ".\\results\\\\grid\\ssm_h64_l60_lr1e-05_n0.1_d0.9_b0.01_oSGD\n",
      ".\\results\\\\grid\\ssm_h64_l60_lr1e-05_n0.1_d0.9_b0.1_oSGD\n",
      ".\\results\\\\grid\\ssm_h64_l60_lr1e-05_n0.1_d0.9_b1_oSGD\n",
      ".\\results\\\\grid\\ssm_h64_l60_lr5e-05_n0.0001_d0.93_b0.001_oSGD.filepart\n"
     ]
    }
   ],
   "source": [
    "for experiment_file_regex in experiment_file_regexs:\n",
    "    for file_path in tqdm(glob.glob(experiment_file_regex)):\n",
    "        if \"filepart\" in file_path:\n",
    "            print(file_path)\n",
    "            continue\n",
    "        \n",
    "        file_name = os.path.basename(file_path)\n",
    "        if file_name in files:\n",
    "            continue\n",
    "        \n",
    "        \n",
    "        if \"hippo_no\" in file_name:\n",
    "            params = get_hippo_no_params(file_path)\n",
    "        elif \"hippo\" in file_name:\n",
    "            params = get_hippo_params(file_path)\n",
    "        elif \"ssm\" in file_name:\n",
    "            params = get_ssm_params(file_path)\n",
    "        elif \"rot\" in file_name:\n",
    "            params = get_rot_params(file_path)\n",
    "        else:\n",
    "            raise\n",
    "            \n",
    "        with open(file_path,\"rb\") as f:\n",
    "            try:\n",
    "                data = pickle.load(f)\n",
    "            except:\n",
    "                print(file_path)\n",
    "                continue\n",
    "            result = Result(data)\n",
    "            if result:\n",
    "                experiments_results[params[\"exp_name\"]].append({\"result\":Result(data),\"params\":params})\n",
    "            else:\n",
    "                print(file_path)\n",
    "                \n",
    "        files.append(file_name)"
   ]
  },
  {
   "cell_type": "code",
   "execution_count": 40,
   "metadata": {},
   "outputs": [
    {
     "data": {
      "text/plain": [
       "['hippo', 'hippo_no', 'rot', 'ssm']"
      ]
     },
     "execution_count": 40,
     "metadata": {},
     "output_type": "execute_result"
    }
   ],
   "source": [
    "[k for k in experiments_results.keys()]"
   ]
  },
  {
   "cell_type": "markdown",
   "metadata": {},
   "source": [
    "## Analysis"
   ]
  },
  {
   "cell_type": "code",
   "execution_count": 47,
   "metadata": {},
   "outputs": [],
   "source": [
    "res = {}\n",
    "for exp in experiments_results.keys():\n",
    "    res[exp] = {\n",
    "        \"min_losses\":[v[\"result\"].min_loss for v in experiments_results[exp]],\n",
    "        \"params\":[v[\"params\"] for v in experiments_results[exp]],\n",
    "        \"train_len\":[v[\"result\"].effective_train_len for v in experiments_results[exp]],\n",
    "        \"best_res\":[v[\"result\"].epoch_best_res for v in experiments_results[exp]]\n",
    "    }"
   ]
  },
  {
   "cell_type": "code",
   "execution_count": 48,
   "metadata": {},
   "outputs": [],
   "source": [
    "def print_by_order(res,n):\n",
    "    arg_min_loss = np.argsort(res[\"min_losses\"])\n",
    "    sorted_params = [res[\"params\"][i] for i in arg_min_loss]\n",
    "    sorted_min_loss = [res[\"min_losses\"][i] for i in arg_min_loss]\n",
    "    sorted_train_len = [res[\"train_len\"][i] for i in arg_min_loss]\n",
    "    sorted_best_res_idx = [res[\"best_res\"][i] for i in arg_min_loss]\n",
    "    \n",
    "    for i in range(n):\n",
    "        print(sorted_min_loss[i],sorted_best_res_idx[i], sorted_train_len[i],sorted_params[i])"
   ]
  },
  {
   "cell_type": "code",
   "execution_count": 49,
   "metadata": {},
   "outputs": [
    {
     "name": "stdout",
     "output_type": "stream",
     "text": [
      "0.11778785288333893 3999 3400 {'hidden': '64', 'lag': '60', 'lr': '0.001', 'dt': '0.1', 'opt': 'adam', 'exp_name': 'hippo'}\n",
      "0.15002372860908508 3999 2631 {'hidden': '64', 'lag': '60', 'lr': '0.001', 'dt': '0.05', 'opt': 'adam', 'exp_name': 'hippo'}\n",
      "0.16897200047969818 3919 2622 {'hidden': '64', 'lag': '60', 'lr': '0.01', 'dt': '0.05', 'opt': 'adam', 'exp_name': 'hippo'}\n",
      "0.1800093799829483 3999 2796 {'hidden': '64', 'lag': '60', 'lr': '0.0001', 'dt': '0.05', 'opt': 'adam', 'exp_name': 'hippo'}\n",
      "0.21781492233276367 3999 2422 {'hidden': '64', 'lag': '60', 'lr': '0.0001', 'dt': '0.1', 'opt': 'adam', 'exp_name': 'hippo'}\n",
      "0.28899896144866943 3999 3569 {'hidden': '64', 'lag': '60', 'lr': '0.0001', 'dt': '0.1', 'opt': 'SGD', 'exp_name': 'hippo'}\n",
      "0.30375415086746216 3999 1864 {'hidden': '64', 'lag': '60', 'lr': '0.0001', 'dt': '0.05', 'opt': 'SGD', 'exp_name': 'hippo'}\n",
      "0.33235353231430054 3999 3428 {'hidden': '64', 'lag': '60', 'lr': '5e-05', 'dt': '0.05', 'opt': 'SGD', 'exp_name': 'hippo'}\n",
      "0.46521586179733276 3999 3486 {'hidden': '64', 'lag': '60', 'lr': '5e-05', 'dt': '0.1', 'opt': 'SGD', 'exp_name': 'hippo'}\n",
      "0.5009499788284302 3999 3435 {'hidden': '64', 'lag': '60', 'lr': '0.001', 'dt': '0.005', 'opt': 'adam', 'exp_name': 'hippo'}\n"
     ]
    }
   ],
   "source": [
    "r = res[\"hippo\"]\n",
    "print_by_order(r,10)"
   ]
  },
  {
   "cell_type": "code",
   "execution_count": 50,
   "metadata": {},
   "outputs": [
    {
     "name": "stdout",
     "output_type": "stream",
     "text": [
      "0.5774000883102417 3999 3304 {'no': 'a', 'hidden': '64', 'lag': '60', 'lr': '0.1', 'dt': '0.1', 'opt': 'adam', 'exp_name': 'hippo_no'}\n",
      "0.6044909954071045 3999 2668 {'no': 'a', 'hidden': '64', 'lag': '60', 'lr': '0.001', 'dt': '0.1', 'opt': 'adam', 'exp_name': 'hippo_no'}\n",
      "0.6343033313751221 3994 1667 {'no': 'ac', 'hidden': '64', 'lag': '60', 'lr': '0.001', 'dt': '0.1', 'opt': 'adam', 'exp_name': 'hippo_no'}\n",
      "0.6353905200958252 3999 1977 {'no': 'ac', 'hidden': '64', 'lag': '60', 'lr': '0.01', 'dt': '0.1', 'opt': 'adam', 'exp_name': 'hippo_no'}\n",
      "0.648389995098114 3999 3009 {'no': 'a', 'hidden': '64', 'lag': '60', 'lr': '0.01', 'dt': '0.1', 'opt': 'adam', 'exp_name': 'hippo_no'}\n",
      "0.6538387537002563 3995 2354 {'no': 'ac', 'hidden': '64', 'lag': '60', 'lr': '0.1', 'dt': '0.1', 'opt': 'adam', 'exp_name': 'hippo_no'}\n",
      "0.6774471998214722 3999 2895 {'no': 'ac', 'hidden': '64', 'lag': '60', 'lr': '0.0001', 'dt': '0.1', 'opt': 'adam', 'exp_name': 'hippo_no'}\n",
      "0.6850076913833618 3999 2722 {'no': 'a', 'hidden': '64', 'lag': '60', 'lr': '0.0001', 'dt': '0.1', 'opt': 'adam', 'exp_name': 'hippo_no'}\n",
      "0.6947296857833862 3999 2387 {'no': 'a', 'hidden': '64', 'lag': '60', 'lr': '0.01', 'dt': '0.05', 'opt': 'adam', 'exp_name': 'hippo_no'}\n",
      "0.695427417755127 3999 1937 {'no': 'a', 'hidden': '64', 'lag': '60', 'lr': '0.001', 'dt': '0.05', 'opt': 'adam', 'exp_name': 'hippo_no'}\n"
     ]
    }
   ],
   "source": [
    "r = res[\"hippo_no\"]\n",
    "print_by_order(r,10)"
   ]
  },
  {
   "cell_type": "code",
   "execution_count": 45,
   "metadata": {},
   "outputs": [
    {
     "name": "stdout",
     "output_type": "stream",
     "text": [
      "0.6116424798965454 3999 4000 {'hidden': '64', 'lag': '60', 'lr': '0.001', 'noise': '0.001', 'diag_init': '0.93', 'BC_std': '0.1', 'opt': 'adam', 'exp_name': 'ssm'}\n",
      "0.6155003309249878 3999 4000 {'hidden': '64', 'lag': '60', 'lr': '0.001', 'noise': '0.01', 'diag_init': '0.9', 'BC_std': '0.1', 'opt': 'adam', 'exp_name': 'ssm'}\n",
      "0.6219192743301392 3999 4000 {'hidden': '64', 'lag': '60', 'lr': '0.001', 'noise': '0.001', 'diag_init': '0.9', 'BC_std': '0.1', 'opt': 'adam', 'exp_name': 'ssm'}\n",
      "0.6245056390762329 3999 4000 {'hidden': '64', 'lag': '60', 'lr': '0.001', 'noise': '0.01', 'diag_init': '0.9', 'BC_std': '0.01', 'opt': 'adam', 'exp_name': 'ssm'}\n",
      "0.6301802396774292 3999 4000 {'hidden': '64', 'lag': '60', 'lr': '0.001', 'noise': '0.01', 'diag_init': '0.9', 'BC_std': '0.001', 'opt': 'adam', 'exp_name': 'ssm'}\n",
      "0.6369850635528564 3990 4000 {'hidden': '64', 'lag': '60', 'lr': '0.001', 'noise': '0.0001', 'diag_init': '0.93', 'BC_std': '0.1', 'opt': 'adam', 'exp_name': 'ssm'}\n",
      "0.6436591148376465 3999 4000 {'hidden': '64', 'lag': '60', 'lr': '0.001', 'noise': '0.001', 'diag_init': '0.9', 'BC_std': '0.01', 'opt': 'adam', 'exp_name': 'ssm'}\n",
      "0.6563855409622192 3999 4000 {'hidden': '64', 'lag': '60', 'lr': '0.001', 'noise': '0.0001', 'diag_init': '0.95', 'BC_std': '0.1', 'opt': 'adam', 'exp_name': 'ssm'}\n",
      "0.6595771908760071 3999 4000 {'hidden': '64', 'lag': '60', 'lr': '0.001', 'noise': '0.0001', 'diag_init': '0.93', 'BC_std': '0.001', 'opt': 'adam', 'exp_name': 'ssm'}\n",
      "0.6657883524894714 3999 4000 {'hidden': '64', 'lag': '60', 'lr': '0.001', 'noise': '0.0001', 'diag_init': '0.9', 'BC_std': '0.1', 'opt': 'adam', 'exp_name': 'ssm'}\n"
     ]
    }
   ],
   "source": [
    "r = res[\"ssm\"]\n",
    "print_by_order(r,10)"
   ]
  },
  {
   "cell_type": "code",
   "execution_count": 46,
   "metadata": {},
   "outputs": [
    {
     "name": "stdout",
     "output_type": "stream",
     "text": [
      "1.3258532726573291e-12 1344 2641 {'rot_type': 'eq', 'hidden': '64', 'lag': '60', 'lr': '0.001', 'opt': 'adam', 'exp_name': 'rot'}\n",
      "0.030712872743606567 2782 2783 {'rot_type': 'eq', 'hidden': '64', 'lag': '60', 'lr': '0.0001', 'opt': 'adam', 'exp_name': 'rot'}\n",
      "0.033999279141426086 3999 4000 {'rot_type': 'eq', 'hidden': '64', 'lag': '60', 'lr': '0.005', 'opt': 'SGD', 'exp_name': 'rot'}\n",
      "0.06051699444651604 3999 4000 {'rot_type': 'eq', 'hidden': '64', 'lag': '60', 'lr': '0.01', 'opt': 'SGD', 'exp_name': 'rot'}\n",
      "0.09439077973365784 2721 2722 {'rot_type': 'eq', 'hidden': '64', 'lag': '60', 'lr': '0.001', 'opt': 'SGD', 'exp_name': 'rot'}\n",
      "0.12642396986484528 3999 4000 {'rot_type': 'eq', 'hidden': '64', 'lag': '60', 'lr': '0.0005', 'opt': 'SGD', 'exp_name': 'rot'}\n",
      "0.197043776512146 3999 4000 {'rot_type': 'eq', 'hidden': '64', 'lag': '60', 'lr': '0.0001', 'opt': 'SGD', 'exp_name': 'rot'}\n",
      "0.38720840215682983 3999 4000 {'rot_type': 'eq', 'hidden': '64', 'lag': '60', 'lr': '5e-05', 'opt': 'SGD', 'exp_name': 'rot'}\n",
      "0.43035364151000977 3980 4000 {'rot_type': 'one_over', 'hidden': '64', 'lag': '60', 'lr': '0.001', 'opt': 'adam', 'exp_name': 'rot'}\n",
      "0.5516253709793091 3999 4000 {'rot_type': 'eq', 'hidden': '64', 'lag': '60', 'lr': '1e-05', 'opt': 'SGD', 'exp_name': 'rot'}\n"
     ]
    }
   ],
   "source": [
    "r = res[\"rot\"]\n",
    "print_by_order(r,10)"
   ]
  },
  {
   "cell_type": "code",
   "execution_count": 47,
   "metadata": {},
   "outputs": [],
   "source": [
    "# hippo_min_loss = [v[\"result\"].min_loss for v in experiments_results[\"hippo\"]]\n",
    "# hippo_min_params = [v[\"params\"] for v in experiments_results[\"hippo\"]]\n",
    "# hippo_train_len = [v[\"result\"].train_len for v in experiments_results[\"hippo\"]]\n",
    "# hippo_best_res = [v[\"result\"].epoch_best_res for v in experiments_results[\"hippo\"]]\n",
    "\n",
    "# ssm_min_loss = [v[\"result\"].min_loss for v in experiments_results[\"ssm\"]]\n",
    "# ssm_min_params = [v[\"params\"] for v in experiments_results[\"ssm\"]]\n",
    "# ssm_train_len = [v[\"result\"].train_len for v in experiments_results[\"ssm\"]]\n",
    "# ssm_best_res = [v[\"result\"].epoch_best_res for v in experiments_results[\"ssm\"]]\n",
    "\n",
    "# hippo_no_min_loss = [v[\"result\"].min_loss for v in experiments_results[\"hippo_no\"]]\n",
    "# hippo_no_min_params = [v[\"params\"] for v in experiments_results[\"hippo_no\"]]\n",
    "# hippo_no_train_len = [v[\"result\"].train_len for v in experiments_results[\"hippo_no\"]]\n",
    "# hippo_no_best_res = [v[\"result\"].epoch_best_res for v in experiments_results[\"hippo_no\"]]"
   ]
  },
  {
   "cell_type": "code",
   "execution_count": 50,
   "metadata": {},
   "outputs": [
    {
     "name": "stdout",
     "output_type": "stream",
     "text": [
      "0.8189658522605896 999 1001 {'lag': '128', 'lr': '0.0001', 'dt': '0.005', 'opt': 'adam', 'exp_name': 'hippo'}\n",
      "0.8189658522605896 999 1001 {'lag': '128', 'lr': '0.0001', 'dt': '0.005', 'opt': 'adam', 'exp_name': 'hippo'}\n",
      "0.8189658522605896 999 1001 {'lag': '128', 'lr': '0.0001', 'dt': '0.005', 'opt': 'adam', 'exp_name': 'hippo'}\n",
      "0.8215049505233765 703 1001 {'lag': '128', 'lr': '0.001', 'dt': '0.005', 'opt': 'adam', 'exp_name': 'hippo'}\n",
      "0.8215049505233765 703 1001 {'lag': '128', 'lr': '0.001', 'dt': '0.005', 'opt': 'adam', 'exp_name': 'hippo'}\n",
      "0.8215049505233765 703 1001 {'lag': '128', 'lr': '0.001', 'dt': '0.005', 'opt': 'adam', 'exp_name': 'hippo'}\n",
      "0.8644284009933472 1000 1001 {'lag': '128', 'lr': '0.0001', 'dt': '0.005', 'opt': 'SGD', 'exp_name': 'hippo'}\n",
      "0.8644284009933472 1000 1001 {'lag': '128', 'lr': '0.0001', 'dt': '0.005', 'opt': 'SGD', 'exp_name': 'hippo'}\n",
      "0.8644284009933472 1000 1001 {'lag': '128', 'lr': '0.0001', 'dt': '0.005', 'opt': 'SGD', 'exp_name': 'hippo'}\n",
      "0.8651992678642273 1000 1001 {'lag': '128', 'lr': '0.001', 'dt': '0.001', 'opt': 'adam', 'exp_name': 'hippo'}\n",
      "0.8651992678642273 1000 1001 {'lag': '128', 'lr': '0.001', 'dt': '0.001', 'opt': 'adam', 'exp_name': 'hippo'}\n",
      "0.8651992678642273 1000 1001 {'lag': '128', 'lr': '0.001', 'dt': '0.001', 'opt': 'adam', 'exp_name': 'hippo'}\n",
      "0.8661942481994629 1000 1001 {'lag': '128', 'lr': '0.001', 'dt': '0.5', 'opt': 'adam', 'exp_name': 'hippo'}\n",
      "0.8661942481994629 1000 1001 {'lag': '128', 'lr': '0.001', 'dt': '0.5', 'opt': 'adam', 'exp_name': 'hippo'}\n",
      "0.8661942481994629 1000 1001 {'lag': '128', 'lr': '0.001', 'dt': '0.5', 'opt': 'adam', 'exp_name': 'hippo'}\n",
      "0.8705414533615112 769 1001 {'lag': '128', 'lr': '0.001', 'dt': '0.05', 'opt': 'adam', 'exp_name': 'hippo'}\n",
      "0.8705414533615112 769 1001 {'lag': '128', 'lr': '0.001', 'dt': '0.05', 'opt': 'adam', 'exp_name': 'hippo'}\n",
      "0.8705414533615112 769 1001 {'lag': '128', 'lr': '0.001', 'dt': '0.05', 'opt': 'adam', 'exp_name': 'hippo'}\n",
      "0.87179034948349 1140 1141 {'lag': '128', 'lr': '0.0001', 'dt': '0.05', 'opt': 'adam', 'exp_name': 'hippo'}\n",
      "0.87179034948349 1140 1141 {'lag': '128', 'lr': '0.0001', 'dt': '0.05', 'opt': 'adam', 'exp_name': 'hippo'}\n",
      "0.87179034948349 1140 1141 {'lag': '128', 'lr': '0.0001', 'dt': '0.05', 'opt': 'adam', 'exp_name': 'hippo'}\n",
      "0.8802499175071716 995 1010 {'lag': '128', 'lr': '0.001', 'dt': '0.0005', 'opt': 'adam', 'exp_name': 'hippo'}\n",
      "0.8802499175071716 995 1010 {'lag': '128', 'lr': '0.001', 'dt': '0.0005', 'opt': 'adam', 'exp_name': 'hippo'}\n",
      "0.8802499175071716 995 1010 {'lag': '128', 'lr': '0.001', 'dt': '0.0005', 'opt': 'adam', 'exp_name': 'hippo'}\n",
      "0.8848322629928589 1000 1001 {'lag': '128', 'lr': '1e-05', 'dt': '0.5', 'opt': 'SGD', 'exp_name': 'hippo'}\n",
      "0.8848322629928589 1000 1001 {'lag': '128', 'lr': '1e-05', 'dt': '0.5', 'opt': 'SGD', 'exp_name': 'hippo'}\n",
      "0.8848322629928589 1000 1001 {'lag': '128', 'lr': '1e-05', 'dt': '0.5', 'opt': 'SGD', 'exp_name': 'hippo'}\n",
      "0.8865256309509277 1000 1001 {'lag': '128', 'lr': '1e-05', 'dt': '0.005', 'opt': 'SGD', 'exp_name': 'hippo'}\n",
      "0.8865256309509277 1000 1001 {'lag': '128', 'lr': '1e-05', 'dt': '0.005', 'opt': 'SGD', 'exp_name': 'hippo'}\n",
      "0.8865256309509277 1000 1001 {'lag': '128', 'lr': '1e-05', 'dt': '0.005', 'opt': 'SGD', 'exp_name': 'hippo'}\n"
     ]
    }
   ],
   "source": [
    "# arg_min_loss = np.argsort(hippo_min_loss)\n",
    "# hippo_soted_params = [hippo_min_params[i] for i in arg_min_loss]\n",
    "# sorted_min_loss = [hippo_min_loss[i] for i in arg_min_loss]\n",
    "# sorted_train_len = [hippo_train_len[i] for i in arg_min_loss]\n",
    "# sorted_best_res_idx = [hippo_best_res[i] for i in arg_min_loss]\n",
    "# for i in range(30):\n",
    "#     print(sorted_min_loss[i],sorted_best_res_idx[i], sorted_train_len[i],hippo_soted_params[i])"
   ]
  },
  {
   "cell_type": "code",
   "execution_count": 53,
   "metadata": {},
   "outputs": [
    {
     "name": "stdout",
     "output_type": "stream",
     "text": [
      "0.9113898277282715 574 1001 {'lag': '128', 'lr': '0.001', 'noise': '0.01', 'diag_init': '0.9', 'BC_std': '0.1', 'opt': 'adam', 'exp_name': 'ssm'}\n",
      "0.9152887463569641 956 1001 {'lag': '128', 'lr': '0.001', 'noise': '0.0001', 'diag_init': '0.95', 'BC_std': '0.1', 'opt': 'adam', 'exp_name': 'ssm'}\n",
      "0.915553867816925 1000 1001 {'lag': '128', 'lr': '0.001', 'noise': '0.001', 'diag_init': '0.95', 'BC_std': '0.1', 'opt': 'adam', 'exp_name': 'ssm'}\n",
      "0.9213181734085083 1000 1001 {'lag': '128', 'lr': '0.0001', 'noise': '0.01', 'diag_init': '0.9', 'BC_std': '0.1', 'opt': 'adam', 'exp_name': 'ssm'}\n",
      "0.9221504330635071 451 1001 {'lag': '128', 'lr': '0.01', 'noise': '0.01', 'diag_init': '0.9', 'BC_std': '0.1', 'opt': 'adam', 'exp_name': 'ssm'}\n",
      "0.9231618046760559 1058 1061 {'lag': '128', 'lr': '0.001', 'noise': '0.0001', 'diag_init': '0.97', 'BC_std': '0.1', 'opt': 'adam', 'exp_name': 'ssm'}\n",
      "0.9261329770088196 1156 1157 {'lag': '128', 'lr': '0.001', 'noise': '0.01', 'diag_init': '0.93', 'BC_std': '0.01', 'opt': 'adam', 'exp_name': 'ssm'}\n",
      "0.9403215646743774 945 1001 {'lag': '128', 'lr': '0.01', 'noise': '0.01', 'diag_init': '0.9', 'BC_std': '0.1', 'opt': 'SGD', 'exp_name': 'ssm'}\n",
      "0.9403215646743774 945 1001 {'lag': '128', 'lr': '0.01', 'noise': '0.01', 'diag_init': '0.9', 'BC_std': '0.1', 'opt': 'SGD', 'exp_name': 'ssm'}\n",
      "0.9438246488571167 1000 1001 {'lag': '128', 'lr': '0.0001', 'noise': '0.0001', 'diag_init': '0.97', 'BC_std': '0.1', 'opt': 'adam', 'exp_name': 'ssm'}\n"
     ]
    }
   ],
   "source": [
    "# arg_min_loss = np.argsort(ssm_min_loss)\n",
    "# ssm_soted_params = [ssm_min_params[i] for i in arg_min_loss]\n",
    "# sorted_min_loss = [ssm_min_loss[i] for i in arg_min_loss]\n",
    "# sorted_train_len = [ssm_train_len[i] for i in arg_min_loss]\n",
    "# sorted_best_res_idx = [ssm_best_res[i] for i in arg_min_loss]\n",
    "# for i in range(10):\n",
    "#     print(sorted_min_loss[i],sorted_best_res_idx[i],sorted_train_len[i],ssm_soted_params[i])"
   ]
  }
 ],
 "metadata": {
  "kernelspec": {
   "display_name": "Python 3 (ipykernel)",
   "language": "python",
   "name": "python3"
  },
  "language_info": {
   "codemirror_mode": {
    "name": "ipython",
    "version": 3
   },
   "file_extension": ".py",
   "mimetype": "text/x-python",
   "name": "python",
   "nbconvert_exporter": "python",
   "pygments_lexer": "ipython3",
   "version": "3.8.10"
  }
 },
 "nbformat": 4,
 "nbformat_minor": 1
}
